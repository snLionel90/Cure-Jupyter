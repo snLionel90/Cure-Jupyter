{
 "cells": [
  {
   "cell_type": "code",
   "execution_count": null,
   "metadata": {},
   "outputs": [],
   "source": [
    "# coding: utf-8\n",
    "__author__ = 'sn.Lionel90'\n",
    "class Girl(object):\n",
    "    #get character name and determintates if she's transformed or not\n",
    "    char_name  = ''\n",
    "    char_precure_name = ''\n",
    "    char_transformed = False\n",
    "    prologue = None\n",
    "\n",
    "    def __init__(self, name, precure_name, prologue):\n",
    "        self.char_name = name\n",
    "        self.char_precure_name  = precure_name\n",
    "        self.prologue = prologue\n",
    "\n",
    "    def __str__(self):\n",
    "        return '{name}({precure_name})'.format(name = self.char_name, precure_name = self.char_precure_name)\n",
    "\n",
    "    @property\n",
    "    def name(self):\n",
    "        if self.char_transformed:\n",
    "            return self.char_precure_name\n",
    "\n",
    "        else:\n",
    "            return self.char_name\n",
    "\n",
    "    def transformation(self, status = True):\n",
    "        self.char_transformed = True\n",
    "        if status:\n",
    "            print(self.prologue)\n",
    "        else:\n",
    "            return self.prologue\n",
    "            #print( 'F')\n"
   ]
  },
  {
   "cell_type": "code",
   "execution_count": null,
   "metadata": {},
   "outputs": [],
   "source": [
    "class PartnerInvalidError(Exception):\n",
    "    pass\n",
    "\n",
    "class FirstGirl(Girl):\n",
    "    partner = None\n",
    "\n",
    "    def transformation(self, partner_name=None, status=True):\n",
    "        if self.partner:\n",
    "            return self.transformation_with(partner_name, status)\n",
    "        else:\n",
    "            return super().transformation(status)\n",
    "\n",
    "    def transformation_with(self, partner_name,status = True):\n",
    "        if partner_name == self.partner._name:\n",
    "            self.partner.char_transformed = True\n",
    "            return super().transformation(status)\n",
    "        else:\n",
    "            raise PartnerInvalidError()\n",
    "\n"
   ]
  }
 ],
 "metadata": {
  "kernelspec": {
   "display_name": "Python 3",
   "language": "python",
   "name": "python3"
  },
  "language_info": {
   "codemirror_mode": {
    "name": "ipython",
    "version": 3
   },
   "file_extension": ".py",
   "mimetype": "text/x-python",
   "name": "python",
   "nbconvert_exporter": "python",
   "pygments_lexer": "ipython3",
   "version": "3.8.1"
  }
 },
 "nbformat": 4,
 "nbformat_minor": 4
}
