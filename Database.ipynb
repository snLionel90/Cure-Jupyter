{
 "cells": [
  {
   "cell_type": "code",
   "execution_count": null,
   "metadata": {},
   "outputs": [],
   "source": [
    "from . import precure, girls\n",
    "#from . import villains, mascots, frases\n",
    "# coding: utf-8\n",
    "from datetime import date\n",
    "\n",
    "__author__ = 'sn.Lionel90'"
   ]
  },
  {
   "cell_type": "code",
   "execution_count": null,
   "metadata": {},
   "outputs": [],
   "source": [
    "#Funcion precuriana /precure function. add (slot, name, date (start),date(end))\n",
    "Precure.add('Futari','Futari Wa Pretty Cure', date(2004, 2, 1),date(2005, 1, 30))\n",
    "Precure.add('MaxHeart','FW Pretty Cure Max Heart', date(2005, 2, 6), date(2005, 2, 6))\n",
    "Precure.add('Splash Star','Splash Star Precure', date(2005, 2, 6), date(2005, 2, 6))\n",
    "Precure.add('Y5','Yes 5 Precure', date(2007, 2, 4), date(2008, 1, 27))\n",
    "Precure.add('Y5Gogo','Yes 5 Precure GoGO', date(2008, 2, 3), date(2009, 1, 25))\n",
    "Precure.add('fresh','Fresh Precure', date(2009, 2, 1), date(2010, 1, 31))\n",
    "Precure.add('heartcatch','HeartCath Precure', date(2010, 2, 7), date(2011, 1, 30))\n",
    "Precure.add('suite','Suite Precure', date(2011, 2, 6), date(2012, 1, 29))\n",
    "Precure.add('smile','Smile Precure', date(2012, 2, 5), date(2013, 1, 27))\n",
    "Precure.add('doki doki','doki doki precure', date(2013, 2, 3), date(2014, 1, 26))\n",
    "Precure.add('happiness Charge','Happiness Charge Princess Precure', date(2014, 2, 2), date(2015, 1, 30))\n",
    "Precure.add('Go Princess','Go Princess Precure', date(2015,2,1 ), date(2016,1,31))\n",
    "Precure.add('Mahou','Mahou Tsukai Pretty Cure', date(2016,2,7), date(2017,1,29))\n",
    "Precure.add('Kira Kira','KiraKira☆Pretty Cure A La Mode', date(2017,2,5), date(2018,1,28))\n",
    "Precure.add('Hugto','HUGtto! Pretty Cure', date(2019,2,4), date(2019,1,27))\n",
    "Precure.add('Star Twinkle','Star Twinkle Precure', date(2019,2,3), date(2020,1,26))\n",
    "Precure.add('Healin','Heealin Good Pretty Cure', date(2020,2,2),None, True) #on broadcast\n",
    "#Precure.add('patatas','Patatas Precure', date( ), date( ))\n",
    "#Precure.add('Obus','Obus Precure', date( ), date( ))\n"
   ]
  },
  {
   "cell_type": "code",
   "execution_count": null,
   "metadata": {},
   "outputs": [],
   "source": [
    "#bloque MY NAME IS JEFF!!\n",
    "nagisa = nagisa.FirstGirl(\n",
    "    'Misumi Nagisa', 'Cure Black',\n",
    "     \"mensajera de la luz, Cure Black! \\n\"\n",
    "     \"¡Somos Pretty Cure! \\n\"\n",
    "     \"¡Siervos del poder de las tinieblas!\\n\"\n",
    "     \"¡Iros a vuestra puta casa, cojones!\")\n",
    "\n",
    "honoka = honoka.FirstGirl(\n",
    "    'Yukisiro Honoka', 'Cure Black',\n",
    "     \"mensajera de la luz, Cure White! \\n\"\n",
    "     \"¡Somos Pretty Cure! \\n\"\n",
    "     \"¡Siervos del poder de las tinieblas!\\n\"\n",
    "     \"¡Iros a vuestra puta casa, cojones!\")\n",
    "\n",
    "Precure['Futari'].girls = [nagisa, honoka]\n",
    "\n",
    "Precure['maxheart'].girls = [nagisa,honoka,\n",
    "    girl.FirstGirl('Hikari Kujo', 'Shiny Luminosa',\" Chinchan-PU\\n\" \"¡El corazón y la voluntad de la luz, para unirlo todo!\")\n",
    "]\n",
    "\n"
   ]
  }
 ],
 "metadata": {
  "kernelspec": {
   "display_name": "Python 3",
   "language": "python",
   "name": "python3"
  },
  "language_info": {
   "codemirror_mode": {
    "name": "ipython",
    "version": 3
   },
   "file_extension": ".py",
   "mimetype": "text/x-python",
   "name": "python",
   "nbconvert_exporter": "python",
   "pygments_lexer": "ipython3",
   "version": "3.8.1"
  }
 },
 "nbformat": 4,
 "nbformat_minor": 4
}
