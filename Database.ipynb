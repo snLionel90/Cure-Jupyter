{
 "cells": [
  {
   "cell_type": "code",
   "execution_count": null,
   "metadata": {},
   "outputs": [],
   "source": [
    "from . import  precure, girls\n",
    "#from . import villains, mascots, frases\n",
    "# coding: utf-8\n",
    "from datetime import date\n",
    "\n",
    "__author__ = 'sn.Lionel90'"
   ]
  },
  {
   "cell_type": "code",
   "execution_count": null,
   "metadata": {},
   "outputs": [],
   "source": [
    "Precure.add ('','Futari Wa Pretty Cure', date(2004, 2, 1),date(2005, 1, 30))\n",
    "Precure.add('MaxHeart','FW Pretty Cure Max Heart', date( ), date( ))\n",
    "Precure.add('yes 5','Yes 5 Precure ', date( ), date( ))\n",
    "Precure.add('Y5 GoGO ','Yes 5 Precure GoGo ', date( ), date( ))\n",
    "Precure.add(' ',' ', date( ), date( ))\n",
    "Precure.add(' ',' ', date( ), date( ))\n",
    "Precure.add(' ',' ', date( ), date( ))\n",
    "Precure.add(' ',' ', date( ), date( ))\n",
    "Precure.add(' ',' ', date( ), date( ))\n",
    "Precure.add(' ',' ', date( ), date( ))\n",
    "Precure.add(' ',' ', date( ), date( ))\n",
    "Precure.add(' ',' ', date( ), date( ))\n",
    "Precure.add(' ',' ', date( ), date( ))\n",
    "Precure.add(' ',' ', date( ), date( ))\n",
    "Precure.add(' ',' ', date( ), date( ))\n",
    "Precure.add(' ',' ', date( ), date( ))\n",
    "Precure.add(' ',' ', date( ), date( ))\n",
    "#Precure.add(' ',' ', date( ), date( ))"
   ]
  }
 ],
 "metadata": {
  "kernelspec": {
   "display_name": "Python 3",
   "language": "python",
   "name": "python3"
  },
  "language_info": {
   "codemirror_mode": {
    "name": "ipython",
    "version": 3
   },
   "file_extension": ".py",
   "mimetype": "text/x-python",
   "name": "python",
   "nbconvert_exporter": "python",
   "pygments_lexer": "ipython3",
   "version": "3.8.1"
  }
 },
 "nbformat": 4,
 "nbformat_minor": 4
}
