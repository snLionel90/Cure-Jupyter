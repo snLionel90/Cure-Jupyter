{
 "cells": [
  {
   "cell_type": "code",
   "execution_count": null,
   "metadata": {},
   "outputs": [],
   "source": [
    "__author__ = 'sn.Lionel90'\n",
    "from collections import OrderedDict\n",
    "# coding: utf-8\n",
    "\n",
    "class PrecureDict(OrderedDict):\n",
    "    def add(self, slot, title, broadcast_from, broadcast_to, now=False):\n",
    "        if slot in self:\n",
    "            raise KeyError\n",
    "        if now and self.now:\n",
    "            raise ValueError\n",
    "        self[slot] = Series(slot, title, broadcast_from, broadcast_to, now)\n",
    "\n",
    "    @property\n",
    "    def now (self):\n",
    "        for bad, good in self.items():\n",
    "            if good.now:\n",
    "                return good\n",
    "        return None\n",
    "\n",
    "    def slot(self):\n",
    "        return [good.slot for bad, good in self.items()]\n",
    "\n",
    "    def Series(self):\n",
    "        \n",
    "        return [good.__str__() for bad, good in self.items()]\n"
   ]
  },
  {
   "cell_type": "code",
   "execution_count": null,
   "metadata": {},
   "outputs": [],
   "source": [
    "class Series(object):\n",
    "    print(\"XD\")\n",
    "    title = ''\n",
    "    slot = ''\n",
    "    broadcast_from = None\n",
    "    broadcast_to = None\n",
    "    now = False\n",
    "    girls = []\n",
    "\n",
    "    def __init__(self, slot, title, broadcast_from, broadcast_to, now=False):\n",
    "        self.slot = slot\n",
    "        self.title = title\n",
    "        self.broadcast_from  = broadcast_from\n",
    "        self.broadcast_to = broadcast_to\n",
    "        self.now = now\n",
    "\n",
    "    def __str__(self):\n",
    "        return self.title"
   ]
  }
 ],
 "metadata": {
  "kernelspec": {
   "display_name": "Python 3",
   "language": "python",
   "name": "python3"
  },
  "language_info": {
   "codemirror_mode": {
    "name": "ipython",
    "version": 3
   },
   "file_extension": ".py",
   "mimetype": "text/x-python",
   "name": "python",
   "nbconvert_exporter": "python",
   "pygments_lexer": "ipython3",
   "version": "3.8.1"
  }
 },
 "nbformat": 4,
 "nbformat_minor": 4
}
